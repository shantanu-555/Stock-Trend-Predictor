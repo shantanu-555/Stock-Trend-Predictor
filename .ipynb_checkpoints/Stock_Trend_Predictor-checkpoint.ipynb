{
 "cells": [
  {
   "cell_type": "code",
   "execution_count": 577,
   "id": "36d41eaa",
   "metadata": {},
   "outputs": [],
   "source": [
    "import numpy as np\n",
    "import pandas as pd\n",
    "import matplotlib.pyplot as plt\n",
    "import seaborn as sns\n",
    "import datetime as dt\n",
    "import pandas_datareader.data as data"
   ]
  },
  {
   "cell_type": "code",
   "execution_count": 578,
   "id": "73eb1e16",
   "metadata": {},
   "outputs": [],
   "source": [
    "start = dt.datetime(2010, 1, 1)\n",
    "end = dt.datetime.today()\n",
    "\n",
    "df = data.DataReader('AAPL', 'stooq', start, end)"
   ]
  },
  {
   "cell_type": "code",
   "execution_count": 579,
   "id": "853a59a5",
   "metadata": {},
   "outputs": [],
   "source": [
    "df = df.iloc[::-1]\n",
    "df.reset_index(inplace=True)"
   ]
  },
  {
   "cell_type": "code",
   "execution_count": 580,
   "id": "4e666158",
   "metadata": {},
   "outputs": [
    {
     "data": {
      "text/html": [
       "<div>\n",
       "<style scoped>\n",
       "    .dataframe tbody tr th:only-of-type {\n",
       "        vertical-align: middle;\n",
       "    }\n",
       "\n",
       "    .dataframe tbody tr th {\n",
       "        vertical-align: top;\n",
       "    }\n",
       "\n",
       "    .dataframe thead th {\n",
       "        text-align: right;\n",
       "    }\n",
       "</style>\n",
       "<table border=\"1\" class=\"dataframe\">\n",
       "  <thead>\n",
       "    <tr style=\"text-align: right;\">\n",
       "      <th></th>\n",
       "      <th>Date</th>\n",
       "      <th>Open</th>\n",
       "      <th>High</th>\n",
       "      <th>Low</th>\n",
       "      <th>Close</th>\n",
       "      <th>Volume</th>\n",
       "    </tr>\n",
       "  </thead>\n",
       "  <tbody>\n",
       "    <tr>\n",
       "      <th>0</th>\n",
       "      <td>2010-01-04</td>\n",
       "      <td>6.49958</td>\n",
       "      <td>6.53008</td>\n",
       "      <td>6.46597</td>\n",
       "      <td>6.51522</td>\n",
       "      <td>5.764890e+08</td>\n",
       "    </tr>\n",
       "    <tr>\n",
       "      <th>1</th>\n",
       "      <td>2010-01-05</td>\n",
       "      <td>6.53905</td>\n",
       "      <td>6.56358</td>\n",
       "      <td>6.49230</td>\n",
       "      <td>6.52639</td>\n",
       "      <td>7.055130e+08</td>\n",
       "    </tr>\n",
       "    <tr>\n",
       "      <th>2</th>\n",
       "      <td>2010-01-06</td>\n",
       "      <td>6.52639</td>\n",
       "      <td>6.55241</td>\n",
       "      <td>6.41553</td>\n",
       "      <td>6.42221</td>\n",
       "      <td>6.452991e+08</td>\n",
       "    </tr>\n",
       "    <tr>\n",
       "      <th>3</th>\n",
       "      <td>2010-01-07</td>\n",
       "      <td>6.44444</td>\n",
       "      <td>6.45421</td>\n",
       "      <td>6.36409</td>\n",
       "      <td>6.41085</td>\n",
       "      <td>5.588893e+08</td>\n",
       "    </tr>\n",
       "    <tr>\n",
       "      <th>4</th>\n",
       "      <td>2010-01-08</td>\n",
       "      <td>6.40586</td>\n",
       "      <td>6.45421</td>\n",
       "      <td>6.36458</td>\n",
       "      <td>6.45401</td>\n",
       "      <td>5.246856e+08</td>\n",
       "    </tr>\n",
       "    <tr>\n",
       "      <th>...</th>\n",
       "      <td>...</td>\n",
       "      <td>...</td>\n",
       "      <td>...</td>\n",
       "      <td>...</td>\n",
       "      <td>...</td>\n",
       "      <td>...</td>\n",
       "    </tr>\n",
       "    <tr>\n",
       "      <th>3338</th>\n",
       "      <td>2023-04-10</td>\n",
       "      <td>161.42000</td>\n",
       "      <td>162.03000</td>\n",
       "      <td>160.08000</td>\n",
       "      <td>162.03000</td>\n",
       "      <td>4.771688e+07</td>\n",
       "    </tr>\n",
       "    <tr>\n",
       "      <th>3339</th>\n",
       "      <td>2023-04-11</td>\n",
       "      <td>162.35000</td>\n",
       "      <td>162.36000</td>\n",
       "      <td>160.51000</td>\n",
       "      <td>160.80000</td>\n",
       "      <td>4.764422e+07</td>\n",
       "    </tr>\n",
       "    <tr>\n",
       "      <th>3340</th>\n",
       "      <td>2023-04-12</td>\n",
       "      <td>161.22000</td>\n",
       "      <td>162.06000</td>\n",
       "      <td>159.78000</td>\n",
       "      <td>160.10000</td>\n",
       "      <td>5.013306e+07</td>\n",
       "    </tr>\n",
       "    <tr>\n",
       "      <th>3341</th>\n",
       "      <td>2023-04-13</td>\n",
       "      <td>161.63000</td>\n",
       "      <td>165.80000</td>\n",
       "      <td>161.42000</td>\n",
       "      <td>165.56000</td>\n",
       "      <td>6.844565e+07</td>\n",
       "    </tr>\n",
       "    <tr>\n",
       "      <th>3342</th>\n",
       "      <td>2023-04-14</td>\n",
       "      <td>164.59000</td>\n",
       "      <td>166.32000</td>\n",
       "      <td>163.82000</td>\n",
       "      <td>165.21000</td>\n",
       "      <td>4.938648e+07</td>\n",
       "    </tr>\n",
       "  </tbody>\n",
       "</table>\n",
       "<p>3343 rows × 6 columns</p>\n",
       "</div>"
      ],
      "text/plain": [
       "           Date       Open       High        Low      Close        Volume\n",
       "0    2010-01-04    6.49958    6.53008    6.46597    6.51522  5.764890e+08\n",
       "1    2010-01-05    6.53905    6.56358    6.49230    6.52639  7.055130e+08\n",
       "2    2010-01-06    6.52639    6.55241    6.41553    6.42221  6.452991e+08\n",
       "3    2010-01-07    6.44444    6.45421    6.36409    6.41085  5.588893e+08\n",
       "4    2010-01-08    6.40586    6.45421    6.36458    6.45401  5.246856e+08\n",
       "...         ...        ...        ...        ...        ...           ...\n",
       "3338 2023-04-10  161.42000  162.03000  160.08000  162.03000  4.771688e+07\n",
       "3339 2023-04-11  162.35000  162.36000  160.51000  160.80000  4.764422e+07\n",
       "3340 2023-04-12  161.22000  162.06000  159.78000  160.10000  5.013306e+07\n",
       "3341 2023-04-13  161.63000  165.80000  161.42000  165.56000  6.844565e+07\n",
       "3342 2023-04-14  164.59000  166.32000  163.82000  165.21000  4.938648e+07\n",
       "\n",
       "[3343 rows x 6 columns]"
      ]
     },
     "execution_count": 580,
     "metadata": {},
     "output_type": "execute_result"
    }
   ],
   "source": [
    "df"
   ]
  },
  {
   "cell_type": "code",
   "execution_count": 581,
   "id": "62f9e440",
   "metadata": {
    "scrolled": false
   },
   "outputs": [
    {
     "data": {
      "text/plain": [
       "[<matplotlib.lines.Line2D at 0x1dcc35789a0>]"
      ]
     },
     "execution_count": 581,
     "metadata": {},
     "output_type": "execute_result"
    },
    {
     "data": {
      "image/png": "[encoded data removed]",
      "text/plain": [
       "<Figure size 640x480 with 1 Axes>"
      ]
     },
     "metadata": {},
     "output_type": "display_data"
    }
   ],
   "source": [
    "plt.plot(df.Close)"
   ]
  },
  {
   "cell_type": "markdown",
   "id": "2eee8175",
   "metadata": {},
   "source": [
    "# Moving Average"
   ]
  },
  {
   "cell_type": "code",
   "execution_count": 582,
   "id": "c22d75db",
   "metadata": {},
   "outputs": [
    {
     "name": "stdout",
     "output_type": "stream",
     "text": [
      "0            NaN\n",
      "1            NaN\n",
      "2            NaN\n",
      "3            NaN\n",
      "4            NaN\n",
      "          ...   \n",
      "3338    146.4574\n",
      "3339    146.5826\n",
      "3340    146.6832\n",
      "3341    146.8509\n",
      "3342    146.9958\n",
      "Name: Close, Length: 3343, dtype: float64\n",
      "__________________________________________________________\n",
      "0              NaN\n",
      "1              NaN\n",
      "2              NaN\n",
      "3              NaN\n",
      "4              NaN\n",
      "           ...    \n",
      "3338    149.118220\n",
      "3339    149.232975\n",
      "3340    149.327330\n",
      "3341    149.448985\n",
      "3342    149.589925\n",
      "Name: Close, Length: 3343, dtype: float64\n"
     ]
    }
   ],
   "source": [
    "# Defining 100 and 200 days moving averages\n",
    "ma100 = df.Close.rolling(100).mean()\n",
    "ma200 = df.Close.rolling(200).mean()\n",
    "\n",
    "print(f\"{ma100}\\n__________________________________________________________\\n{ma200}\")"
   ]
  },
  {
   "cell_type": "code",
   "execution_count": 583,
   "id": "5a725450",
   "metadata": {},
   "outputs": [
    {
     "data": {
      "image/png": "[encoded data removed]",
      "text/plain": [
       "<Figure size 1200x600 with 1 Axes>"
      ]
     },
     "metadata": {},
     "output_type": "display_data"
    }
   ],
   "source": [
    "plt.figure(figsize = (12, 6))\n",
    "plt.plot(df.Close)\n",
    "plt.plot(ma100, 'r')\n",
    "plt.plot(ma200, 'g')\n",
    "plt.show()"
   ]
  },
  {
   "cell_type": "markdown",
   "id": "d2084e53",
   "metadata": {},
   "source": [
    "# Splitting training and testing data"
   ]
  },
  {
   "cell_type": "code",
   "execution_count": 584,
   "id": "d2efffae",
   "metadata": {},
   "outputs": [
    {
     "name": "stdout",
     "output_type": "stream",
     "text": [
      "(2507, 1)\n",
      "(836, 1)\n"
     ]
    }
   ],
   "source": [
    "df_train = pd.DataFrame(df.Close[0:int(len(df)*0.75)])\n",
    "df_test = pd.DataFrame(df.Close[int(len(df)*0.75):int(len(df))])\n",
    "\n",
    "print(df_train.shape)\n",
    "print(df_test.shape)"
   ]
  },
  {
   "cell_type": "markdown",
   "id": "9f6d6d03",
   "metadata": {},
   "source": [
    "# Scaling data"
   ]
  },
  {
   "cell_type": "code",
   "execution_count": 585,
   "id": "47ee986c",
   "metadata": {},
   "outputs": [],
   "source": [
    "from sklearn.preprocessing import MinMaxScaler\n",
    "\n",
    "scaler = MinMaxScaler(feature_range=(0, 1))"
   ]
  },
  {
   "cell_type": "code",
   "execution_count": 586,
   "id": "cbfb07f4",
   "metadata": {},
   "outputs": [],
   "source": [
    "df_train_array = scaler.fit_transform(df_train)\n",
    "df_test_array = scaler.fit_transform(df_test)"
   ]
  },
  {
   "cell_type": "markdown",
   "id": "5807f353",
   "metadata": {},
   "source": [
    "# Making input and prediction arrays"
   ]
  },
  {
   "cell_type": "code",
   "execution_count": 587,
   "id": "acc49423",
   "metadata": {
    "scrolled": true
   },
   "outputs": [],
   "source": [
    "x_train = []\n",
    "y_train = []\n",
    "\n",
    "for i in range(100, df_train_array.shape[0]):\n",
    "    x_train.append(df_train_array[i-100: i])\n",
    "    y_train.append(df_train_array[i, 0])"
   ]
  },
  {
   "cell_type": "code",
   "execution_count": 588,
   "id": "a52761eb",
   "metadata": {
    "scrolled": false
   },
   "outputs": [],
   "source": [
    "x_train, y_train = np.array(x_train), np.array(y_train)"
   ]
  },
  {
   "cell_type": "code",
   "execution_count": 589,
   "id": "2dfda8f4",
   "metadata": {
    "scrolled": true
   },
   "outputs": [
    {
     "data": {
      "text/plain": [
       "(2407, 100, 1)"
      ]
     },
     "execution_count": 589,
     "metadata": {},
     "output_type": "execute_result"
    }
   ],
   "source": [
    "x_train.shape"
   ]
  },
  {
   "cell_type": "code",
   "execution_count": 590,
   "id": "5764cad8",
   "metadata": {},
   "outputs": [
    {
     "data": {
      "text/plain": [
       "(2407,)"
      ]
     },
     "execution_count": 590,
     "metadata": {},
     "output_type": "execute_result"
    }
   ],
   "source": [
    "y_train.shape"
   ]
  },
  {
   "cell_type": "markdown",
   "id": "f30c18a5",
   "metadata": {},
   "source": [
    "# Making ML model"
   ]
  },
  {
   "cell_type": "code",
   "execution_count": 591,
   "id": "07a8f10d",
   "metadata": {},
   "outputs": [],
   "source": [
    "from tensorflow import keras\n",
    "from keras.layers import Dense, Dropout, LSTM\n",
    "from keras.models import Sequential"
   ]
  },
  {
   "cell_type": "code",
   "execution_count": 592,
   "id": "86ff99de",
   "metadata": {},
   "outputs": [],
   "source": [
    "# 1st layer\n",
    "model = Sequential()\n",
    "model.add(LSTM(units = 50, activation = 'relu', return_sequences = True, \n",
    "              input_shape = (x_train.shape[1], 1)))\n",
    "model.add(Dropout(0.2))\n",
    "\n",
    "# 2nd layer\n",
    "model.add(LSTM(units = 60, activation = 'relu', return_sequences = True))\n",
    "model.add(Dropout(0.3))\n",
    "\n",
    "# 3rd layer\n",
    "model.add(LSTM(units = 80, activation = 'relu', return_sequences = True))\n",
    "model.add(Dropout(0.4))\n",
    "\n",
    "# 4th layer\n",
    "model.add(LSTM(units = 120, activation = 'relu', return_sequences = True))\n",
    "model.add(Dropout(0.5))\n",
    "\n",
    "model.add(Dense(units = 1))"
   ]
  },
  {
   "cell_type": "code",
   "execution_count": 593,
   "id": "c66854c4",
   "metadata": {},
   "outputs": [
    {
     "name": "stdout",
     "output_type": "stream",
     "text": [
      "Model: \"sequential_17\"\n",
      "_________________________________________________________________\n",
      " Layer (type)                Output Shape              Param #   \n",
      "=================================================================\n",
      " lstm_64 (LSTM)              (None, 100, 50)           10400     \n",
      "                                                                 \n",
      " dropout_64 (Dropout)        (None, 100, 50)           0         \n",
      "                                                                 \n",
      " lstm_65 (LSTM)              (None, 100, 60)           26640     \n",
      "                                                                 \n",
      " dropout_65 (Dropout)        (None, 100, 60)           0         \n",
      "                                                                 \n",
      " lstm_66 (LSTM)              (None, 100, 80)           45120     \n",
      "                                                                 \n",
      " dropout_66 (Dropout)        (None, 100, 80)           0         \n",
      "                                                                 \n",
      " lstm_67 (LSTM)              (None, 100, 120)          96480     \n",
      "                                                                 \n",
      " dropout_67 (Dropout)        (None, 100, 120)          0         \n",
      "                                                                 \n",
      " dense_16 (Dense)            (None, 100, 1)            121       \n",
      "                                                                 \n",
      "=================================================================\n",
      "Total params: 178,761\n",
      "Trainable params: 178,761\n",
      "Non-trainable params: 0\n",
      "_________________________________________________________________\n"
     ]
    }
   ],
   "source": [
    "model.summary()"
   ]
  },
  {
   "cell_type": "code",
   "execution_count": 594,
   "id": "1e33e7ec",
   "metadata": {},
   "outputs": [
    {
     "data": {
      "text/plain": [
       "<keras.engine.sequential.Sequential at 0x1dcd080e940>"
      ]
     },
     "execution_count": 594,
     "metadata": {},
     "output_type": "execute_result"
    }
   ],
   "source": [
    "keras.models.load_model('stock_trend_predictor.keras')"
   ]
  },
  {
   "cell_type": "code",
   "execution_count": 595,
   "id": "84d445a7",
   "metadata": {},
   "outputs": [
    {
     "name": "stderr",
     "output_type": "stream",
     "text": [
      "C:\\Users\\Shantanu\\AppData\\Local\\Temp\\ipykernel_12376\\2999055065.py:2: FutureWarning: The frame.append method is deprecated and will be removed from pandas in a future version. Use pandas.concat instead.\n",
      "  final_df = past_100_days.append(df_test, ignore_index=True)\n"
     ]
    }
   ],
   "source": [
    "past_100_days = df_train.tail(100)\n",
    "final_df = past_100_days.append(df_test, ignore_index=True)"
   ]
  },
  {
   "cell_type": "code",
   "execution_count": 596,
   "id": "125b271c",
   "metadata": {
    "scrolled": false
   },
   "outputs": [
    {
     "data": {
      "text/plain": [
       "(936, 1)"
      ]
     },
     "execution_count": 596,
     "metadata": {},
     "output_type": "execute_result"
    }
   ],
   "source": [
    "input_data = scaler.fit_transform(final_df)\n",
    "input_data.shape"
   ]
  },
  {
   "cell_type": "code",
   "execution_count": 597,
   "id": "5cb966ed",
   "metadata": {},
   "outputs": [
    {
     "name": "stdout",
     "output_type": "stream",
     "text": [
      "(836, 100, 1)\n",
      "(836,)\n"
     ]
    }
   ],
   "source": [
    "x_test = []\n",
    "y_test = []\n",
    "\n",
    "for i in range(100, input_data.shape[0]):\n",
    "    x_test.append(input_data[i-100: i])\n",
    "    y_test.append(input_data[i, 0])\n",
    "    \n",
    "x_test, y_test = np.array(x_test), np.array(y_test)\n",
    "print(x_test.shape)\n",
    "print(y_test.shape)"
   ]
  },
  {
   "cell_type": "markdown",
   "id": "0756f5fb",
   "metadata": {},
   "source": [
    "# Making Predictions"
   ]
  },
  {
   "cell_type": "code",
   "execution_count": 598,
   "id": "8e00b58c",
   "metadata": {},
   "outputs": [
    {
     "name": "stdout",
     "output_type": "stream",
     "text": [
      "27/27 [==============================] - 2s 58ms/step\n"
     ]
    }
   ],
   "source": [
    "y_pred = model.predict(x_test)"
   ]
  },
  {
   "cell_type": "code",
   "execution_count": 599,
   "id": "fdb2de83",
   "metadata": {},
   "outputs": [
    {
     "data": {
      "text/plain": [
       "(836, 100, 1)"
      ]
     },
     "execution_count": 599,
     "metadata": {},
     "output_type": "execute_result"
    }
   ],
   "source": [
    "y_pred.shape"
   ]
  },
  {
   "cell_type": "code",
   "execution_count": 600,
   "id": "dca04460",
   "metadata": {},
   "outputs": [
    {
     "data": {
      "text/plain": [
       "(836,)"
      ]
     },
     "execution_count": 600,
     "metadata": {},
     "output_type": "execute_result"
    }
   ],
   "source": [
    "y_pred = y_pred[:, 0, 0]\n",
    "y_pred.shape"
   ]
  },
  {
   "cell_type": "code",
   "execution_count": 601,
   "id": "65838928",
   "metadata": {},
   "outputs": [
    {
     "data": {
      "text/plain": [
       "array([0.0074669])"
      ]
     },
     "execution_count": 601,
     "metadata": {},
     "output_type": "execute_result"
    }
   ],
   "source": [
    "scaler.scale_"
   ]
  },
  {
   "cell_type": "code",
   "execution_count": 602,
   "id": "7165a2ae",
   "metadata": {},
   "outputs": [],
   "source": [
    "scale_factor = 1/0.0074669\n",
    "y_test = np.array(y_test)\n",
    "y_pred = np.array(y_pred)"
   ]
  },
  {
   "cell_type": "code",
   "execution_count": 603,
   "id": "3cdf2d92",
   "metadata": {
    "scrolled": false
   },
   "outputs": [
    {
     "data": {
      "text/plain": [
       "array([-2.54639781e-05, -2.40567224e-05, -3.06326474e-05, -2.35051575e-05,\n",
       "       -1.66642676e-05,  0.00000000e+00, -5.72232102e-06, -8.93833931e-06,\n",
       "       -1.57592185e-05, -1.31569850e-05, -1.23525842e-05, -2.55904270e-05,\n",
       "       -1.58998319e-05, -1.43316229e-05, -2.17466095e-05, -2.77053296e-05,\n",
       "       -2.77181152e-05, -3.12711927e-05, -3.09861389e-05, -1.57214909e-05,\n",
       "       -2.17274992e-05, -1.81160431e-05, -2.02094034e-05, -2.56539970e-05,\n",
       "       -2.52420887e-05, -2.04822481e-05, -2.59329099e-05, -3.22614469e-05,\n",
       "       -3.22233973e-05, -3.36172852e-05, -3.75222080e-05, -4.81167735e-05,\n",
       "       -4.73357213e-05, -4.06830695e-05, -4.24521386e-05, -4.37058079e-05,\n",
       "       -4.68358448e-05, -4.41068296e-05, -3.91378417e-05, -4.06327999e-05,\n",
       "       -3.90622045e-05, -4.42136043e-05, -4.24332538e-05, -4.07964872e-05,\n",
       "       -4.86856843e-05, -4.96470748e-05, -4.09967215e-05, -4.38937568e-05,\n",
       "       -5.33141465e-05, -5.33948005e-05, -4.93541556e-05, -5.33509447e-05,\n",
       "       -5.80337255e-05, -6.73014147e-05, -6.67837594e-05, -6.59616635e-05,\n",
       "       -6.45406253e-05, -6.59002908e-05, -6.76103737e-05, -7.37759910e-05,\n",
       "       -7.29768290e-05, -7.78154426e-05, -7.84279473e-05, -8.29134660e-05,\n",
       "       -8.65937400e-05, -7.79864058e-05, -7.79384354e-05, -8.61668814e-05,\n",
       "       -9.66665684e-05, -9.91584966e-05, -9.86020314e-05, -9.87716412e-05,\n",
       "       -1.03179038e-04, -1.04209539e-04, -1.07260705e-04, -1.06899497e-04,\n",
       "       -1.10616653e-04, -1.07921289e-04, -1.12492395e-04, -1.14486254e-04,\n",
       "       -1.13289381e-04, -1.08738612e-04, -1.06971820e-04, -1.06634565e-04,\n",
       "       -1.13402872e-04, -1.10346497e-04, -1.15574141e-04, -1.14707022e-04,\n",
       "       -1.10154986e-04, -1.03209226e-04, -1.06593070e-04, -1.12241141e-04,\n",
       "       -1.19781798e-04, -1.14210809e-04, -1.16506199e-04, -1.19871496e-04,\n",
       "       -1.20878183e-04, -1.26274841e-04, -1.33122987e-04, -1.33902213e-04,\n",
       "       -1.32951754e-04, -1.33347246e-04, -1.32515022e-04, -1.39114898e-04,\n",
       "       -1.39490963e-04, -1.47607512e-04, -1.47444051e-04, -1.49919797e-04,\n",
       "       -1.52955166e-04, -1.62525990e-04, -1.58381008e-04, -1.61728371e-04,\n",
       "       -1.59743024e-04, -1.66584068e-04, -1.75761365e-04, -1.76724614e-04,\n",
       "       -1.86110468e-04, -1.80061310e-04, -1.78154602e-04, -1.83671596e-04,\n",
       "       -1.88596896e-04, -1.85554221e-04, -1.87141603e-04, -1.89288796e-04,\n",
       "       -1.87995189e-04, -1.74785368e-04, -1.87130412e-04, -1.96457782e-04,\n",
       "       -1.95797125e-04, -1.75593130e-04, -1.74375091e-04, -1.88768259e-04,\n",
       "       -1.92398293e-04, -1.97681700e-04, -1.91490370e-04, -1.93619184e-04,\n",
       "       -1.90912673e-04, -2.01539340e-04, -1.98278649e-04, -1.98393085e-04,\n",
       "       -1.90043924e-04, -1.96526438e-04, -1.91879008e-04, -1.81631767e-04,\n",
       "       -1.60443189e-04, -1.45959217e-04, -1.52536028e-04, -1.24832950e-04,\n",
       "       -1.24595288e-04, -1.61322721e-04, -1.47754195e-04, -1.66967729e-04,\n",
       "       -1.52908731e-04, -1.47327548e-04, -1.14031376e-04, -1.42016172e-04,\n",
       "       -1.27633262e-04, -8.73736863e-05, -1.31327281e-04, -7.83183932e-05,\n",
       "       -9.43148480e-05, -8.50257275e-05, -8.21802969e-05, -5.86108181e-05,\n",
       "       -5.11574726e-05, -8.53378733e-05, -8.33104132e-05, -1.02606275e-04,\n",
       "       -8.66427072e-05, -9.72111302e-05, -9.64234350e-05, -7.63615681e-05,\n",
       "       -8.24127710e-05, -7.71160048e-05, -1.08587861e-04, -1.04076746e-04,\n",
       "       -1.13887152e-04, -1.16733929e-04, -1.24441314e-04, -1.44489299e-04,\n",
       "       -1.40701392e-04, -1.43974263e-04, -1.38338466e-04, -1.29800770e-04,\n",
       "       -1.17294665e-04, -1.28593689e-04, -1.27046776e-04, -1.38591291e-04,\n",
       "       -1.38886171e-04, -1.32219007e-04, -1.45455488e-04, -1.54183334e-04,\n",
       "       -1.47386221e-04, -1.53258472e-04, -1.59574338e-04, -1.63957564e-04,\n",
       "       -1.68383762e-04, -1.78679227e-04, -1.85611469e-04, -1.80498202e-04,\n",
       "       -1.75160574e-04, -1.77837748e-04, -1.75246721e-04, -1.85542551e-04,\n",
       "       -1.82964737e-04, -1.91576022e-04, -1.88213176e-04, -1.91102285e-04,\n",
       "       -1.88041682e-04, -1.90003630e-04, -1.90204373e-04, -1.89758226e-04,\n",
       "       -1.95267596e-04, -1.97369154e-04, -1.99853093e-04, -1.95922607e-04,\n",
       "       -2.08785510e-04, -2.11515915e-04, -2.26373857e-04, -2.38897032e-04,\n",
       "       -2.14911139e-04, -2.19003952e-04, -2.24959964e-04, -2.37827262e-04,\n",
       "       -2.37135289e-04, -2.37335567e-04, -2.34491177e-04, -2.47401214e-04,\n",
       "       -2.58156797e-04, -2.49063247e-04, -2.55772611e-04, -2.40022928e-04,\n",
       "       -2.51493475e-04, -2.55716441e-04, -2.54750921e-04, -2.54750921e-04,\n",
       "       -2.68379867e-04, -2.66769930e-04, -2.78842461e-04, -2.80742737e-04,\n",
       "       -2.82051798e-04, -2.79595261e-04, -2.88357493e-04, -2.92058394e-04,\n",
       "       -2.85397109e-04, -2.84320471e-04, -2.95539881e-04, -2.88038224e-04,\n",
       "       -2.89544667e-04, -2.64932023e-04, -2.63647118e-04, -2.75892991e-04,\n",
       "       -2.67210329e-04, -2.77181825e-04, -2.83562433e-04, -3.38797225e-04,\n",
       "       -3.53181997e-04, -3.57102777e-04, -3.59218917e-04, -3.79783451e-04,\n",
       "       -3.65899032e-04, -3.74661613e-04, -3.56665725e-04, -3.76171927e-04,\n",
       "       -3.86720843e-04, -3.86181579e-04, -3.84624291e-04, -3.89617198e-04,\n",
       "       -3.90423287e-04, -4.04049992e-04, -4.35885740e-04, -4.43644181e-04,\n",
       "       -4.38254006e-04, -4.47094470e-04, -4.39190073e-04, -4.38201649e-04,\n",
       "       -4.60062380e-04, -4.86263481e-04, -4.72071231e-04, -4.17699252e-04,\n",
       "       -4.18123964e-04, -3.75143543e-04, -3.99036624e-04, -3.78702476e-04,\n",
       "       -3.70716123e-04, -3.88600427e-04, -3.89508961e-04, -3.71420756e-04,\n",
       "       -3.61829298e-04, -3.42962478e-04, -3.60418169e-04, -3.69690009e-04,\n",
       "       -3.44390253e-04, -3.50341870e-04, -3.72228562e-04, -3.86451662e-04,\n",
       "       -3.81824328e-04, -3.90961184e-04, -3.96207470e-04, -3.76225391e-04,\n",
       "       -3.94650240e-04, -3.76982644e-04, -3.87097767e-04, -3.86505126e-04,\n",
       "       -3.97167460e-04, -4.36042785e-04, -4.18866781e-04, -4.19344811e-04,\n",
       "       -4.16848314e-04, -4.07990563e-04, -3.91869136e-04, -3.99999903e-04,\n",
       "       -3.96635733e-04, -3.90638539e-04, -3.86881933e-04, -3.86937230e-04,\n",
       "       -3.95187584e-04, -3.66382505e-04, -3.88384768e-04, -3.53836687e-04,\n",
       "       -3.53344687e-04, -3.62367718e-04, -3.86397238e-04, -4.07990563e-04,\n",
       "       -4.07296378e-04, -3.94757633e-04, -3.92889604e-04, -4.11550544e-04,\n",
       "       -4.10064356e-04, -4.10331035e-04, -4.15796298e-04, -4.11018234e-04,\n",
       "       -4.03787591e-04, -4.07035492e-04, -4.00160934e-04, -3.81608261e-04,\n",
       "       -3.88600427e-04, -3.93207243e-04, -3.96207470e-04, -4.09211410e-04,\n",
       "       -4.28421248e-04, -4.30318411e-04, -4.29578446e-04, -4.25999839e-04,\n",
       "       -4.33840527e-04, -4.37044335e-04, -4.23516351e-04, -4.31162567e-04,\n",
       "       -4.26840736e-04, -4.23516351e-04, -4.55173256e-04, -4.54813387e-04,\n",
       "       -4.59436618e-04, -4.48974664e-04, -4.56999463e-04, -4.75733395e-04,\n",
       "       -4.70983301e-04, -4.76198067e-04, -5.00210619e-04, -4.90926614e-04,\n",
       "       -4.85137105e-04, -4.79898095e-04, -4.63120989e-04, -4.71241510e-04,\n",
       "       -4.48660430e-04, -4.70775994e-04, -4.76606714e-04, -4.60894866e-04,\n",
       "       -4.59958246e-04, -4.70619358e-04, -4.60530835e-04, -4.51375847e-04,\n",
       "       -4.54911933e-04, -4.76502406e-04, -5.01128903e-04, -5.12087834e-04,\n",
       "       -5.31375292e-04, -5.32577164e-04, -5.27062162e-04, -5.02246723e-04,\n",
       "       -4.76146117e-04, -4.87240060e-04, -4.91537212e-04, -4.86211589e-04,\n",
       "       -5.03720134e-04, -5.01582283e-04, -5.02342882e-04, -4.97767236e-04,\n",
       "       -4.94605280e-04, -4.93274652e-04, -4.94504056e-04, -4.83443378e-04,\n",
       "       -4.71397419e-04, -4.65657300e-04, -4.66488680e-04, -4.46518621e-04,\n",
       "       -4.45789454e-04, -4.43120196e-04, -4.20290016e-04, -4.21720906e-04,\n",
       "       -4.55695059e-04, -4.41923417e-04, -4.25946317e-04, -4.15850751e-04,\n",
       "       -4.22568701e-04, -3.95885698e-04, -4.20819299e-04, -4.15104412e-04,\n",
       "       -4.25418111e-04, -4.20500612e-04, -4.35991649e-04, -4.44273785e-04,\n",
       "       -4.40031494e-04, -4.17911477e-04, -4.15105635e-04, -4.32892906e-04,\n",
       "       -4.28421248e-04, -4.15637478e-04, -4.18229261e-04, -4.21455741e-04,\n",
       "       -4.22410056e-04, -4.14679613e-04, -4.26417566e-04, -4.30846791e-04,\n",
       "       -4.45999496e-04, -4.47618688e-04, -4.56268812e-04, -4.68971964e-04,\n",
       "       -4.82470234e-04, -4.73462249e-04, -4.89694881e-04, -4.77530470e-04,\n",
       "       -4.90054255e-04, -4.88365884e-04, -4.91792569e-04, -4.83032782e-04,\n",
       "       -4.85033204e-04, -4.77065681e-04, -4.89135855e-04, -4.91183542e-04,\n",
       "       -4.89489525e-04, -4.85445344e-04, -4.84932127e-04, -4.74595552e-04,\n",
       "       -4.80151997e-04, -4.56008042e-04, -4.57311224e-04, -4.65811958e-04,\n",
       "       -4.69330058e-04, -4.51997359e-04, -4.47147206e-04, -4.30739950e-04,\n",
       "       -4.42232558e-04, -4.55068192e-04, -4.49026149e-04, -4.41607466e-04,\n",
       "       -4.40768665e-04, -4.54343593e-04, -4.44642006e-04, -4.53303452e-04,\n",
       "       -4.52258799e-04, -4.51997359e-04, -4.43854165e-04, -4.40345873e-04,\n",
       "       -4.38623218e-04, -4.42704913e-04, -4.34790360e-04, -4.47042083e-04,\n",
       "       -4.47094470e-04, -4.51427564e-04, -4.53460525e-04, -4.48195206e-04,\n",
       "       -4.54551220e-04, -4.70672589e-04, -4.66435391e-04, -4.69018909e-04,\n",
       "       -4.77426511e-04, -4.70568921e-04, -4.80053015e-04, -4.88622754e-04,\n",
       "       -4.87187732e-04, -4.85754601e-04, -4.84211399e-04, -4.92658117e-04,\n",
       "       -5.00566501e-04, -5.03770716e-04, -5.05295349e-04, -5.18858433e-04,\n",
       "       -5.29116718e-04, -5.40909008e-04, -5.35006635e-04, -5.43308037e-04,\n",
       "       -5.40595967e-04, -5.45657007e-04, -5.60474291e-04, -5.57810185e-04,\n",
       "       -5.48925425e-04, -5.31279191e-04, -5.47867850e-04, -5.44594834e-04,\n",
       "       -5.50736906e-04, -5.58130152e-04, -5.59841632e-04, -5.50603902e-04,\n",
       "       -5.42732305e-04, -5.45657007e-04, -5.46587806e-04, -5.45127550e-04,\n",
       "       -5.53150603e-04, -5.51389763e-04, -5.51873585e-04, -5.48793294e-04,\n",
       "       -5.48571872e-04, -5.46454743e-04, -5.47562784e-04, -5.60314103e-04,\n",
       "       -5.61145716e-04, -5.68917429e-04, -5.65447204e-04, -5.49765653e-04,\n",
       "       -5.51257399e-04, -5.57530962e-04, -5.63553825e-04, -5.63202600e-04,\n",
       "       -5.58209955e-04, -5.54855913e-04, -5.59162756e-04, -5.76178601e-04,\n",
       "       -5.71512035e-04, -5.73979807e-04, -5.78045903e-04, -5.80324500e-04,\n",
       "       -5.88683295e-04, -5.83160028e-04, -5.79505868e-04, -5.60631859e-04,\n",
       "       -5.62924892e-04, -5.57250169e-04, -5.60870219e-04, -5.59916080e-04,\n",
       "       -5.48440206e-04, -5.34610997e-04, -5.36803447e-04, -5.47518197e-04,\n",
       "       -5.51830046e-04, -5.52225858e-04, -5.45438263e-04, -5.29619982e-04,\n",
       "       -5.34115999e-04, -5.27566532e-04, -5.33304643e-04, -5.15780528e-04,\n",
       "       -5.25606272e-04, -5.30072255e-04, -5.36176434e-04, -5.34431718e-04,\n",
       "       -5.34025370e-04, -5.27617289e-04, -5.24597883e-04, -5.38275577e-04,\n",
       "       -5.43085625e-04, -5.50603902e-04, -5.59800770e-04, -5.61779540e-04,\n",
       "       -5.62652422e-04, -5.59522305e-04, -5.59323118e-04, -5.62019064e-04,\n",
       "       -5.60154440e-04, -5.74197620e-04, -5.63908485e-04, -5.60592220e-04,\n",
       "       -5.64777642e-04, -5.70274424e-04, -5.68327901e-04, -5.70308941e-04,\n",
       "       -5.67230629e-04, -5.68585936e-04, -5.57330844e-04, -5.57130203e-04,\n",
       "       -5.65524853e-04, -5.65560942e-04, -5.69285708e-04, -5.78260515e-04,\n",
       "       -5.93538047e-04, -6.02537591e-04, -6.04093075e-04, -6.05349778e-04,\n",
       "       -6.07088499e-04, -5.89891803e-04, -6.01537002e-04, -6.17885671e-04,\n",
       "       -6.16211037e-04, -6.12986390e-04, -6.06759917e-04, -6.17949350e-04,\n",
       "       -6.36909390e-04, -6.49542373e-04, -6.47880079e-04, -6.63168787e-04,\n",
       "       -6.51640352e-04, -6.47140376e-04, -6.62708248e-04, -6.40463782e-04,\n",
       "       -6.36776153e-04, -6.32152602e-04, -6.42845349e-04, -6.51322887e-04,\n",
       "       -6.53347175e-04, -6.65853615e-04, -6.62678096e-04, -6.62954641e-04,\n",
       "       -6.59317593e-04, -6.57360244e-04, -6.70876238e-04, -6.63932646e-04,\n",
       "       -6.49033987e-04, -6.39607606e-04, -6.40167680e-04, -6.40233746e-04,\n",
       "       -6.49542373e-04, -6.50976144e-04, -6.40233746e-04, -6.43107982e-04,\n",
       "       -6.32319134e-04, -6.20805600e-04, -6.15383906e-04, -6.08621805e-04,\n",
       "       -6.06036512e-04, -5.99998690e-04, -5.99699852e-04, -5.98117942e-04,\n",
       "       -6.34087250e-04, -6.48584275e-04, -6.48038578e-04, -6.51960145e-04,\n",
       "       -6.42552215e-04, -6.41604245e-04, -6.39217091e-04, -6.49447262e-04,\n",
       "       -6.54043746e-04, -6.40726765e-04, -6.29159389e-04, -6.29968417e-04,\n",
       "       -6.42910018e-04, -6.42128463e-04, -6.29968417e-04, -6.24741369e-04,\n",
       "       -6.15449098e-04, -6.01638574e-04, -6.10378454e-04, -6.17131474e-04,\n",
       "       -6.17981132e-04, -6.11861877e-04, -6.22485182e-04, -6.21460495e-04,\n",
       "       -6.11767813e-04, -5.99060906e-04, -5.92750090e-04, -6.11055701e-04,\n",
       "       -5.96426660e-04, -5.83331333e-04, -5.68585936e-04, -5.84598689e-04,\n",
       "       -6.00032043e-04, -6.03434455e-04, -6.14364573e-04, -6.18800870e-04,\n",
       "       -6.29765622e-04, -6.34421711e-04, -6.47015637e-04, -6.49092952e-04,\n",
       "       -6.51896000e-04, -6.62370876e-04, -6.58699311e-04, -6.48746674e-04,\n",
       "       -6.47783920e-04, -6.60770689e-04, -6.50181843e-04, -6.39773265e-04,\n",
       "       -6.40791201e-04, -6.34020020e-04, -6.19960600e-04, -6.25846267e-04,\n",
       "       -6.35055243e-04, -6.18518156e-04, -6.17822050e-04, -6.25049637e-04,\n",
       "       -6.24524138e-04, -6.22049731e-04, -6.07286231e-04, -6.10828341e-04,\n",
       "       -5.90549898e-04, -5.89752861e-04, -6.13276497e-04, -5.93470701e-04,\n",
       "       -5.94525074e-04, -5.99666731e-04, -6.20805600e-04, -5.90445648e-04,\n",
       "       -5.92991593e-04, -5.74632140e-04, -5.83367015e-04, -5.53062768e-04,\n",
       "       -5.35592495e-04, -5.55733684e-04, -5.48837241e-04, -5.64185553e-04,\n",
       "       -5.27163269e-04, -5.09655627e-04, -5.10870363e-04, -5.38051128e-04,\n",
       "       -5.24850795e-04, -5.25656389e-04, -5.41042944e-04, -5.65757800e-04,\n",
       "       -5.62611443e-04, -5.62097877e-04, -5.71548939e-04, -5.48133976e-04,\n",
       "       -5.51477948e-04, -5.62097877e-04, -5.59123640e-04, -5.35951229e-04,\n",
       "       -5.08541649e-04, -4.81749274e-04, -4.86263481e-04, -4.99904330e-04,\n",
       "       -4.72380809e-04, -4.80104907e-04, -5.02144045e-04, -4.99494316e-04,\n",
       "       -5.14310610e-04, -5.31375292e-04, -5.31375234e-04, -5.10112091e-04,\n",
       "       -5.19162044e-04, -5.06460085e-04, -5.17644279e-04, -5.30878489e-04,\n",
       "       -5.37207525e-04, -5.52404381e-04, -5.55426755e-04, -5.45878429e-04,\n",
       "       -5.50250115e-04, -5.48616517e-04, -5.61145716e-04, -5.67746174e-04,\n",
       "       -5.55558305e-04, -5.70784672e-04, -5.78153704e-04, -5.86315058e-04,\n",
       "       -5.81883709e-04, -5.77828614e-04, -5.72966936e-04, -5.91309858e-04,\n",
       "       -5.93231525e-04, -6.10411051e-04, -6.07154507e-04, -6.02202199e-04,\n",
       "       -6.21897867e-04, -6.20900420e-04, -6.20180916e-04, -6.18672289e-04,\n",
       "       -6.18829974e-04, -6.32805226e-04, -6.30286406e-04, -6.42256578e-04,\n",
       "       -6.45791704e-04, -6.45274296e-04, -6.50156406e-04, -6.48878806e-04,\n",
       "       -6.40356680e-04, -6.27171597e-04, -6.26016408e-04, -6.27038360e-04,\n",
       "       -6.35439239e-04, -6.14706834e-04, -6.07462309e-04, -5.99265331e-04,\n",
       "       -5.93531877e-04, -5.96051454e-04, -5.88668860e-04, -5.84192807e-04,\n",
       "       -5.89190866e-04, -5.83946123e-04, -5.94042183e-04, -6.14098914e-04,\n",
       "       -5.81755477e-04, -5.86928567e-04, -5.76508581e-04, -5.70452365e-04,\n",
       "       -5.84017602e-04, -5.92433324e-04, -5.81329048e-04, -5.77836006e-04,\n",
       "       -5.69464348e-04, -5.70708886e-04, -5.74310136e-04, -5.67295996e-04,\n",
       "       -5.36120846e-04, -5.14928717e-04, -5.35985979e-04, -5.52196230e-04,\n",
       "       -5.53516613e-04, -5.49243530e-04, -5.24471747e-04, -5.26130199e-04,\n",
       "       -5.18874498e-04, -5.15637919e-04, -5.38405089e-04, -5.15841180e-04,\n",
       "       -5.35807107e-04, -5.41797373e-04, -5.42287889e-04, -5.40195208e-04,\n",
       "       -5.57189574e-04, -5.65825147e-04, -5.76402352e-04, -5.65435563e-04,\n",
       "       -5.46458585e-04, -5.88426366e-04, -5.79979911e-04, -5.70272678e-04,\n",
       "       -5.47477975e-04, -5.18368266e-04, -5.17000386e-04, -5.19733760e-04,\n",
       "       -5.22664399e-04, -4.99147573e-04, -5.56565472e-04, -5.67693962e-04,\n",
       "       -5.62184781e-04, -5.68947697e-04, -5.64200978e-04, -5.71439508e-04],\n",
       "      dtype=float32)"
      ]
     },
     "execution_count": 603,
     "metadata": {},
     "output_type": "execute_result"
    }
   ],
   "source": [
    "y_pred"
   ]
  },
  {
   "cell_type": "code",
   "execution_count": 604,
   "id": "d9b100fa",
   "metadata": {
    "scrolled": false
   },
   "outputs": [
    {
     "data": {
      "image/png": "[encoded data removed]",
      "text/plain": [
       "<Figure size 1200x600 with 1 Axes>"
      ]
     },
     "metadata": {},
     "output_type": "display_data"
    }
   ],
   "source": [
    "plt.figure(figsize=(12, 6))\n",
    "plt.plot(y_test, 'b', label = 'Original Price')\n",
    "plt.plot(y_pred, 'r', label = 'Predicted Price')\n",
    "plt.xlabel('Time')\n",
    "plt.ylabel('Price')\n",
    "plt.legend()\n",
    "plt.show()"
   ]
  },
  {
   "cell_type": "code",
   "execution_count": null,
   "id": "7ed6f075",
   "metadata": {},
   "outputs": [],
   "source": []
  }
 ],
 "metadata": {
  "kernelspec": {
   "display_name": "Python 3 (ipykernel)",
   "language": "python",
   "name": "python3"
  },
  "language_info": {
   "codemirror_mode": {
    "name": "ipython",
    "version": 3
   },
   "file_extension": ".py",
   "mimetype": "text/x-python",
   "name": "python",
   "nbconvert_exporter": "python",
   "pygments_lexer": "ipython3",
   "version": "3.8.16"
  }
 },
 "nbformat": 4,
 "nbformat_minor": 5
}
